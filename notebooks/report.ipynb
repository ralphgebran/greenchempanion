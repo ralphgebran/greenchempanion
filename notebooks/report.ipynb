{
 "cells": [
  {
   "cell_type": "markdown",
   "metadata": {},
   "source": [
    "# Welcome to GreeenChemPanion 🍃\n",
    "----\n",
    "Welcome to this interactive Jupyter Notebook! 🎉 miaw\n",
    "\n",
    "**About This Notebook:**\n",
    "The principles of Green Chemistry seek to transform the way chemical processes are designed, with the goal of reducing or eliminating the use and generation of dangerous substances. Sustainable chemistry insists on improving reaction efficiency, minimizing waste, and ensuring the long-term safety of both products and processes. Key metrics such as the E-Factor, Process Mass Intensity (PMI), and Atom Economy have been developed to quantitatively measure the environmental impact of chemical reactions. Also, solvent choice and product properties are key to assessing the sustainability of chemical transformations.\n",
    "\n",
    "In this context, we have developed GreenChemPanion, an interactive Python-based platform designed to help chemists assess and optimize the sustainability of their reactions. GreenChemPanion integrates core green chemistry metrics. It includes the E-Factor, PMI, and Atom Economy, together with evaluations of solvent sustainability, molecular greenness (based on atomic composition), and reaction conditions.\n",
    "\n",
    "The platform allows users to input key reaction parameters such as reactants, products, solvents, and catalysts. It then automatically computes sustainability scores, classifies solvents according to established green chemistry guidelines, analyzes molecular structures for environmentally concerning elements, and provides a comprehensive \"green grade\" for the reaction. In addition to offering quantitative feedback, GreenChemPanion highlights areas where improvements can be made to align more closely with sustainable practices.\n",
    "\n",
    "Through this project, we aim to provide chemists with a centralized, intuitive, and practical tool that supports greener decision-making. GreenChemPanion bridges the gap between synthetic chemistry and green chemistry principles, helping users evaluate their current reactions and design more sustainable processes following the 12 Principles of Green Chemistry.\n",
    "\n",
    "**🚀 Getting started:**\n",
    "To get started, simply follow the structure outlined in the ReadMe. Each part of the project includes clear explanations, illustrative code examples, and visual outputs to help you understand and apply the concepts efficiently.\n",
    "\n",
    "**How to use:**\n",
    "Feel free to modify the inputs, test different reactions, and explore how different molecular structures impact sustainability metrics. The code is modular and documented to support experimentation and learning.\n",
    "\n",
    "**Questions?**\n",
    "For any questions, please contact marc.alhachem@epfl.ch, ralph.gebran@epfl.ch, tais.thomas@epfl.ch or valentine.wien@epfl.ch\n",
    "\n",
    "Let’s dive into chemistry with purpose, making it cleaner, smarter, and greener! 🚀"
   ]
  },
  {
   "cell_type": "markdown",
   "metadata": {},
   "source": [
    "### 🔧 First, let’s import everything!\n",
    "\n",
    "To begin, run the following cell to import all necessary libraries and custom functions. This includes standard tools such as pandas and math, along with the cheminformatics toolkit RDKit, which allows us to represent, manipulate, and analyze molecular structures."
   ]
  },
  {
   "cell_type": "code",
   "execution_count": null,
   "metadata": {},
   "outputs": [],
   "source": [
    "import streamlit as st\n",
    "import pandas as pd\n",
    "import math\n",
    "from rdkit import Chem\n",
    "from rdkit.Chem import Draw\n",
    "from rdkit.Chem import Descriptors\n",
    "from streamlit_ketcher import st_ketcher\n",
    "from functions import Atom_Count_With_H, Reaction, compute_PMI, canonicalize_smiles, compute_E \n",
    "from functions import get_solvent_info, waste_efficiency, PMI_assesment, Atom_ec_assesment, logP_assessment_molecule, atoms_assessment, structural_assessment"
   ]
  },
  {
   "cell_type": "markdown",
   "metadata": {},
   "source": [
    "### 🔥 Let’s Get Started!\n",
    "\n",
    "To begin evaluating the sustainability of a chemical reaction, users must define the reaction they wish to assess. With the Reaction class, you can specify not only the reactants and products, but also optional information such as solvents, catalysts, and reaction yield. \n",
    "\n",
    "Our tool allows you to input SMILES strings for each molecule (a standardized way to represent molecular structures) and then automatically computes a wide range of green chemistry factors including Atom Economy, E-factor, and PMI."
   ]
  },
  {
   "cell_type": "markdown",
   "metadata": {},
   "source": [
    "### 🧪 Example Usage 📚 – GreenChemPanion"
   ]
  },
  {
   "cell_type": "markdown",
   "metadata": {},
   "source": [
    "**✅ Step 1: Define your chemical reaction**\n",
    "\n",
    "Before you can assess the sustainability of a reaction, you must first describe it chemically. GreenChemPanion uses SMILES (Simplified Molecular Input Line Entry System) to represent molecules. The stoichiometry is also specified, and the reaction is checked to ensure that it is well balanced in terms of atoms. An internal function performs this check automatically to ensure the consistency of the material balance before any indicator calculations.\n",
    "\n",
    "👉 If you don't know SMILES, you can find them on PubChem or generate your own with RDKit.\n",
    "\n",
    "The reaction is then instantiated via a dedicated class, which serves as the basis for subsequent calculations (atom economy, PMI, E-factor, ...). \n",
    "\n",
    "In the following example, we consider the oxidation of ethanol to acetic acid:\n",
    "\n",
    "- **Reactants**: ethanol (`CCO`), oxygen (`O=O`)\n",
    "- **Products**: acetic acid (`CC(=O)O`), ​​water (`O`)"
   ]
  },
  {
   "cell_type": "code",
   "execution_count": null,
   "metadata": {},
   "outputs": [],
   "source": []
  },
  {
   "cell_type": "code",
   "execution_count": null,
   "metadata": {},
   "outputs": [],
   "source": [
    "reactants = ['CCO', 'O=O'] \n",
    "products = ['CC(=O)O', 'O'] \n",
    "\n",
    "reaction = Reaction(reactants, products)"
   ]
  },
  {
   "cell_type": "markdown",
   "metadata": {},
   "source": [
    "This step creates a Reaction object that encodes the chemical transformation. SMILES are automatically converted into internal molecular objects (using RDKit), and the reaction is stored with the corresponding stoichiometry."
   ]
  },
  {
   "cell_type": "markdown",
   "metadata": {},
   "source": [
    "**🔬 Step 2: Calculating the atom economy**\n",
    "\n",
    "Atom economy is a fundamental indicator in green chemistry, measuring the efficiency of using atoms in reactants to form the main product. A reaction with good atom economy limits waste production and maximizes the value of raw materials. The higher the atom economy, the better. The atom economy is expressed as a percentage and can never exceed 100%.\n",
    "\n",
    "GreenChemPanion allows you to calculate this indicator in two ways:\n",
    " - By number of atoms: evaluates the proportion of atoms present in the main product compared to all the reactants. Implicit hydrogens are included via an internal atom counting function on RDKit objects.\n",
    " - By molar mass: weights atoms by their mass to give a more accurate measurement in an industrial context. the mass of each molecule is obtained automatically from its structure, using the exact atomic masses provided by RDKit.\n"
   ]
  },
  {
   "cell_type": "code",
   "execution_count": null,
   "metadata": {},
   "outputs": [],
   "source": [
    "ae_atoms = Reaction.Atom_Economy_A()\n",
    "ae_mass = Reaction.Atom_Economy_M()"
   ]
  },
  {
   "cell_type": "markdown",
   "metadata": {},
   "source": [
    "**🧮 Step 3 – Calculation of PMI and E Factor**\n",
    "\n",
    "These two indicators quantify the material efficiency of a chemical process by integrating the waste generated. Unlike the atom economy, they take into account all material flows, including by-products and solvents, when specified.\n",
    "\n",
    " - **PMI (Process Mass Intensity)** is the ratio between the total mass of materials used (reagents, solvents, catalysts, etc.) and the mass of the main product.\n",
    " - **E-factor** measures the mass of waste generated per unit of product\n",
    "\n",
    "Both indicators are directly calculated from the defined chemical reaction, taking into account stoichiometry. \n",
    "\n",
    "Molar masses are automatically calculated from SMILES structures via RDKit. The algorithm considers all products that are not designated as the main product to be treated as waste in the calculation of the E-factor and PMI.\n",
    "An internal function determines the \"main product\", either by default the first given product, or according to a manually specified index."
   ]
  },
  {
   "cell_type": "code",
   "execution_count": null,
   "metadata": {},
   "outputs": [],
   "source": [
    "pmi = reaction.PMI()\n",
    "efactor = reaction.E_factor()\n",
    "\n",
    "print(f\"PMI : {pmi:.2f}\")\n",
    "print(f\"E-factor : {efactor:.2f}\")"
   ]
  },
  {
   "cell_type": "markdown",
   "metadata": {},
   "source": [
    "**🌍 Step 4: Evaluation of the solvents used**\n",
    "\n",
    "Solvents can be responsible for a large part of the environmental impact of a chemical process. In this project, we integrated an automatic method for classifying solvents used in a reaction, based on their SMILES structure.\n",
    "\n",
    "*Principle* - each solvent is compared to three pre-defined categories:\n",
    " - ✅Green: solvents considered environmentally friendly according to green chemistry guides (water, ethanol,...).\n",
    " - 🟨​Acceptable: Default category for unclassified solvents, assumed to be acceptable but not optimal.\n",
    " - ❌Bad: solvents that are problematic for health or the environment (benzene, n-hexane, halogenated solvents,...).\n",
    "\n",
    "**Implementation** - A meter associates one of three categories with each solvent:"
   ]
  },
  {
   "cell_type": "code",
   "execution_count": null,
   "metadata": {},
   "outputs": [],
   "source": [
    "Green = {\"O\", \"CCO\", \"CC(=O)OCC\", \"CC1COCC1\", \"O=C=O\", \"CC(O)C\", \"CO\"}\n",
    "Bad = {\"ClCCl\", \"ClC(Cl)Cl\", \"c1ccccc1\", \"ClC(Cl)(Cl)Cl\", \"CCCCCC\", \"CCCCC\"}\n",
    "\n",
    "extras = Reaction.get_extras()\n",
    "\n",
    "seen = {\"Green\": 0, \"Acceptable\": 0, \"Bad\": 0}\n",
    "for mol in extras:\n",
    "    smi = Chem.MolToSmiles(mol)\n",
    "    if smi in Green:\n",
    "        seen[\"Green\"] += 1\n",
    "    elif smi in Bad:\n",
    "        seen[\"Bad\"] += 1\n",
    "    else:\n",
    "        seen[\"Acceptable\"] += 1\n"
   ]
  },
  {
   "cell_type": "markdown",
   "metadata": {},
   "source": [
    "Based on the count, an overall verdict is issued:\n",
    "\n",
    " - If a \"Bad\" solvent is detected: a red warning is displayed.\n",
    " - If only \"Acceptable\" solvents are detected: a yellow warning.\n",
    " - If all solvents are \"Green\": a green message validates the selection."
   ]
  },
  {
   "cell_type": "markdown",
   "metadata": {},
   "source": [
    "**🧪 Step 5: Product Evaluation**\n",
    "\n",
    "One of the sustainability criteria for a chemical reaction concerns the nature of the resulting products. Some compounds may be toxic, non-biodegradable, or derived from rare elements, which affects the overall sustainability of the process.\n",
    "\n",
    "In this project, product evaluation is based on two aspects:\n",
    "\n",
    " 1. 🧑‍🔬Presence of problematic atomic elements\n",
    " \n",
    "  An initial filter checks whether the molecules produced contain elements that pose a risk from a green chemistry perspective. The list includes elements such as chlorine, bromine, lead, and certain heavy metals. If any of these elements are present, a warning is displayed.\n",
    "\n"
   ]
  },
  {
   "cell_type": "code",
   "execution_count": null,
   "metadata": {},
   "outputs": [],
   "source": [
    "# Example utilization\n",
    "product_evaluation = Reaction.evaluate_products()\n",
    "print(product_evaluation)"
   ]
  },
  {
   "cell_type": "markdown",
   "metadata": {},
   "source": [
    "This feedback indicates whether problematic atomic elements are present in the main product. The goal is to encourage the avoidance of products containing unsustainable elements.\n",
    "\n",
    "2. 💧 Evaluation of logP (hydrophobicity)\n",
    " \n",
    " A second indicator is the logP value, the logarithm of the octanol/water partition coefficient, which provides an indication of the compound's solubility and environmental behavior.\n",
    "\n",
    " A low logP value indicates a hydrophilic molecule, which is generally more favorable for biodegradability. Conversely, a high logP may suggest a molecule that is likely to accumulate in living organisms and the environment.\n",
    "\n",
    " The function evaluates the hydrophobicity of the main product by calculating its logP value via RDKit and classifying it into different categories according to its value"
   ]
  },
  {
   "cell_type": "code",
   "execution_count": null,
   "metadata": {},
   "outputs": [],
   "source": [
    "from rdkit.Chem import Crippen\n",
    "logP = Crippen.MolLogP(product)"
   ]
  },
  {
   "cell_type": "code",
   "execution_count": null,
   "metadata": {},
   "outputs": [],
   "source": [
    "logp_evaluation = Reaction.logP_assessment_molecule()\n",
    "print(logp_evaluation)"
   ]
  },
  {
   "cell_type": "markdown",
   "metadata": {},
   "source": [
    "The assessment is based on a simple classification:\n",
    "\n",
    " - ✅ 1.5<= logP <= 2.5 → Hydrophilic, favorable product\n",
    " - 🚸​ 0 <= logP <= 1.5 and 2.5<= logP <= 4 → Moderately hydrophobic product\n",
    " - 🚫 logP > 4 → Potentially problematic product\n",
    " \n",
    "These two assessments are intended to provide additional clues about the environmental quality of the main reaction product."
   ]
  },
  {
   "cell_type": "markdown",
   "metadata": {},
   "source": [
    "**⚗️ Step 6: Structural Assessment**\n",
    "\n",
    "Beyond atomic composition and physicochemical properties, a product's molecular structure can significantly influence its environmental impact. Certain substructures or functional units are known to be problematic: they can affect biodegradability, cause toxic effects, or make the molecule persistent in the environment.\n",
    "\n",
    "In GreenChemPanion, we implemented an evaluation based on the detection of risky motifs in the main product molecule.\n",
    "\n",
    "*🔍 Analysis method:*\n",
    "\n",
    "The structural_assessment() function allows you to assess whether products contain risky structural motifs, based on:\n",
    "\n",
    "1. SMARTS substructures known to be problematic, such as:\n",
    " - carbon oxides (`CO`, `CO2`)\n",
    " - nitro groups (`NO2`)\n",
    " - azo groups (`N=N`)\n",
    " - highly halogenated aromatic rings (`dichlorobenzenes`) \n",
    "\n",
    "2. The presence of long chains of heavy atoms (more than 10 non-hydrogen atoms), often associated with biodegradability problems.\n",
    "\n",
    "*🧪 How it works*\n",
    "\n",
    "For each product:\n",
    "\n",
    "- The molecule is examined for substructures corresponding to the risky motifs using mol.HasSubstructMatch(...)\n",
    "\n",
    "- A structural similarity analysis (molecular fingerprinting + Tanimoto) is used as a complementary method: if a structure is sufficiently close to a known motif, a warning is issued.\n",
    "\n",
    "- If a product exceeds 10 heavy atoms (excluding hydrogens), a flag is raised.\n",
    "\n",
    "*🖥️ Example result*"
   ]
  },
  {
   "cell_type": "code",
   "execution_count": null,
   "metadata": {},
   "outputs": [],
   "source": [
    "msg, color = structural_assessment(Reaction)\n",
    "display(Markdown(msg))"
   ]
  },
  {
   "cell_type": "markdown",
   "metadata": {},
   "source": [
    "### 📊User interface with Streamlit\n",
    "\n",
    "To make sustainability assessment accessible to chemists without programming skills, a simple and interactive user interface was developed using Streamlit.\n",
    "\n",
    "**🎯 Objective**\n",
    "\n",
    "The objective is to allow the user to:\n",
    "\n",
    " - Define a chemical reaction using SMILES,\n",
    " - Automatically launch the sustainability analysis based on the defined indicators (atom economy, E-factor, solvents, logP, structure, etc.),\n",
    " - Visualize the results in a clear and colorful interface.\n",
    "\n",
    " \n",
    "**💻 Interface Features**\n",
    "\n",
    "The Streamlit interface includes:\n",
    "\n",
    "1. Reactant and Product Entry:\n",
    " - Text field for entering SMILES separated by commas.\n",
    " - Choice of the main product via a drop-down menu.\n",
    "2. Automated Analysis:\n",
    " - Creation of the Reaction object from user data.\n",
    " - Calculation of all sustainability indicators using the previously defined functions.\n",
    "3. Result Display:\n",
    " - Results presented as text accompanied by emoticons ✅ 🚸​ 🚨\n",
    " - Use of colors (green, yellow, red) to reflect the environmental assessment.\n",
    " - Option to have an overall summary at the end."
   ]
  },
  {
   "cell_type": "markdown",
   "metadata": {},
   "source": [
    "## 🌿 GreenChemPanion: Challenges, Features and Limitations\n",
    "\n",
    "### **🧪 Introduction**\n",
    "\n",
    "GreenChemPanion is an interactive notebook designed to assess the environmental sustainability of chemical reactions based on the principles of green chemistry. It is based on the analysis of indicators such as atom economy, E-factor, solvent use, and the nature of the products generated.\n",
    "\n",
    "### **🎯 Motivations**\n",
    "\n",
    "This project is aimed at anyone, students, teachers, or researchers, who wishes to integrate sustainability concepts from the design phase of a chemical synthesis. By offering a rapid, visual, and multi-criteria assessment of a reaction based on its SMILES representation, GreenChemPanion makes it possible to identify the main weak points of a transformation from a green chemistry perspective in just a few seconds. Using various indicators (atom savings, waste generated, nature of solvents, atomic elements present, molecular structure of the product), the project encourages a more critical and responsible approach to chemistry.\n",
    "\n",
    "Beyond the technical aspect, GreenChemPanion is also intended as an educational and awareness-raising tool. It reminds us that every choice made during a synthesis—from the solvent to the product formed—can have a measurable environmental impact. By facilitating access to criteria often considered secondary in laboratory planning, this project contributes to making sustainable chemistry a concrete, accessible, and applicable priority starting in university education.\n",
    "\n",
    "### **🌟 Main Features**\n",
    "\n",
    "- **Atom Economy Calculation**: Measures the efficiency with which reactants are converted into the main product.\n",
    "E-Factor & PMI: Evaluate the mass of waste generated and the mass of material consumed.\n",
    "\n",
    "- **Solvent Assessment**: Classifies solvents into three categories (\"Green\", \"Acceptable\", \"Bad\") according to their environmental impact.\n",
    "\n",
    "- **LogP Analysis**: Provides an indication of the product's biodegradability and persistence in a biological environment.\n",
    "\n",
    "- **Elemental Risk Scan**: Detects the presence of problematic elements (heavy metals, halogens, etc.).\n",
    "\n",
    "- **Structural Assessment**: Searches for structural motifs associated with environmental risks or toxicity.\n",
    "\n",
    "- **Streamlit Interface**: Interactive interface for easily testing different reactions.\n",
    "\n",
    "### **📉 Challenges Encountered**\n",
    "\n",
    "- **Stoichiometry and balancing**: The code had to ensure that the reactions were well balanced before running the calculations.\n",
    "\n",
    "- **Reliable atom counting**: Implicit hydrogens had to be taken into account to obtain a realistic count.\n",
    "\n",
    "- **Choice of reference solvents**: The classification of solvents was based on an arbitrary selection of representative SMILES, which sometimes required questionable decisions.\n",
    "\n",
    "- **Product evaluation**: Certain criteria (such as logP or the presence of \"at risk\" atoms) may vary depending on the application context, which introduces a degree of subjectivity.\n",
    "\n",
    "- **Using Streamlit**: Integrating it into a dynamic interface while maintaining explicit and colorful user feedback required technical adjustments.\n",
    "\n",
    "### **🚧 Limitations**\n",
    "\n",
    "- **Subjectivity in some criteria**: The evaluation of problematic solvents or structures is based on lists chosen by the developers, which may not cover all cases or depend on questionable sources.\n",
    "\n",
    "- **SMILES only**: Some complex or ambiguous reactions cannot be properly analyzed if the SMILES are not well written or ambiguous.\n",
    "\n",
    "- **Simplification of waste**: All products that are not the main product are considered waste, which can be reductive in the case of recoverable co-products.\n",
    "\n",
    "- **Lack of energy factors**: The software does not take into account experimental conditions (such as temperature and pressure) which also influence durability.\n",
    "\n",
    "- **Limit to one reaction at a time**: The system evaluates only one transformation at a time and does not yet allow a global evaluation of a multi-step synthetic route.\n",
    "\n",
    "### **✅ Conclusion**\n",
    "\n",
    "GreenChemPanion represents a first step toward an interactive and accessible green chemistry assistant. While still imperfect, it allows for an initial assessment of chemical transformations from a sustainability perspective. By combining various indicators in a simple interface, it serves as an educational tool and awareness-raising tool. The project remains open to future expansions: consideration of energy, multi-step approach, reaction database, or even the integration of artificial intelligence for more refined recommendations.\n",
    "\n"
   ]
  }
 ],
 "metadata": {
  "kernelspec": {
   "display_name": "Green",
   "language": "python",
   "name": "python3"
  },
  "language_info": {
   "codemirror_mode": {
    "name": "ipython",
    "version": 3
   },
   "file_extension": ".py",
   "mimetype": "text/x-python",
   "name": "python",
   "nbconvert_exporter": "python",
   "pygments_lexer": "ipython3",
   "version": "3.10.16"
  }
 },
 "nbformat": 4,
 "nbformat_minor": 2
}
