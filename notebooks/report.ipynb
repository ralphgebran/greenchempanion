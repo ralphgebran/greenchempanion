{
 "cells": [
  {
   "cell_type": "markdown",
   "metadata": {},
   "source": [
    "# Welcome to GreeenChemPanion 🍃"
   ]
  },
  {
   "cell_type": "markdown",
   "metadata": {},
   "source": [
    "The principles of Green Chemistry seek to transform the way chemical processes are designed, with the goal of reducing or eliminating the use and generation of dangerous substances. Sustainable chemistry insists on improving reaction efficiency, minimizing waste, and ensuring the long-term safety of both products and processes. Key metrics such as the E-Factor, Process Mass Intensity (PMI), and Atom Economy have been developed to quantitatively measure the environmental impact of chemical reactions. Also, solvent choice and product properties are key to assessing the sustainability of chemical transformations.\n",
    "\n",
    "In this context, we have developed GreenChemPanion, an interactive Python-based platform designed to help chemists assess and optimize the sustainability of their reactions. GreenChemPanion integrates core green chemistry metrics — including E-Factor, PMI, and Atom Economy — together with evaluations of solvent sustainability, molecular greenness (based on atomic composition), and reaction conditions.\n",
    "\n",
    "The platform allows users to input key reaction parameters such as reactants, products, solvents, and catalysts. It then automatically computes sustainability scores, classifies solvents according to established green chemistry guidelines, analyzes molecular structures for environmentally concerning elements, and provides a comprehensive \"green grade\" for the reaction. In addition to offering quantitative feedback, GreenChemPanion highlights areas where improvements can be made to align more closely with sustainable practices.\n",
    "\n",
    "Through this project, we aim to provide chemists with a centralized, intuitive, and practical tool that supports greener decision-making. GreenChemPanion bridges the gap between synthetic chemistry and green chemistry principles, helping users evaluate their current reactions and design more sustainable processes following the 12 Principles of Green Chemistry."
   ]
  },
  {
   "cell_type": "markdown",
   "metadata": {},
   "source": [
    "### Initialization \n",
    "The following files must be imported for the well execution of this notebook."
   ]
  },
  {
   "cell_type": "code",
   "execution_count": 1,
   "metadata": {},
   "outputs": [],
   "source": [
    "from rdkit import Chem\n",
    "from rdkit.Chem.rdchem import Mol\n",
    "from rdkit.Chem import Descriptors\n",
    "from typing import Dict"
   ]
  },
  {
   "cell_type": "markdown",
   "metadata": {},
   "source": [
    "## 1.  Preliminary functions"
   ]
  },
  {
   "cell_type": "markdown",
   "metadata": {},
   "source": [
    "#### A) Atom Counting"
   ]
  },
  {
   "cell_type": "markdown",
   "metadata": {},
   "source": [
    "#### B) Canonicalize smiles"
   ]
  },
  {
   "cell_type": "markdown",
   "metadata": {},
   "source": [
    "## 2. Reaction"
   ]
  },
  {
   "cell_type": "markdown",
   "metadata": {},
   "source": [
    "## 3. Green Chemistry Factors\n",
    "Quantitative metrics are essential for evaluating the sustainability of chemical reactions. Factors such as PMI, Atom Economy, and E-Factor help measure material efficiency and waste production, supporting greener process design."
   ]
  },
  {
   "cell_type": "markdown",
   "metadata": {},
   "source": [
    "#### A) Atom Economy\n",
    "Represents the proportion of reactant atoms that end up in the final product. Higher atom economy means fewer by-products and better synthetic efficiency."
   ]
  },
  {
   "cell_type": "markdown",
   "metadata": {},
   "source": [
    "#### B) PMI\n",
    "Measures the total mass of all materials (reagents, solvents, auxiliaries) used per mass of product obtained. A lower PMI indicates a more resource-efficient process."
   ]
  },
  {
   "cell_type": "markdown",
   "metadata": {},
   "source": [
    "#### C) E factor\n",
    "Calculates the amount of waste generated relative to the product mass. A lower E-Factor reflects a cleaner, less wasteful process."
   ]
  },
  {
   "cell_type": "markdown",
   "metadata": {},
   "source": [
    "## 4. GCP Score"
   ]
  }
 ],
 "metadata": {
  "kernelspec": {
   "display_name": "gcp",
   "language": "python",
   "name": "python3"
  },
  "language_info": {
   "codemirror_mode": {
    "name": "ipython",
    "version": 3
   },
   "file_extension": ".py",
   "mimetype": "text/x-python",
   "name": "python",
   "nbconvert_exporter": "python",
   "pygments_lexer": "ipython3",
   "version": "3.10.17"
  }
 },
 "nbformat": 4,
 "nbformat_minor": 2
}
