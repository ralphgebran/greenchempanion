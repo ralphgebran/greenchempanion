{
 "cells": [
  {
   "cell_type": "markdown",
   "metadata": {},
   "source": [
    "# GreeenChemPanion 🍃\n",
    "----\n",
    "Welcome to this interactive Jupyter Notebook Report for GCP! 🎉\n",
    "\n",
    "**📝 About This Notebook:**\n",
    "\n",
    "The principles of Green Chemistry seek to transform the way chemical processes are designed, with the goal of reducing or eliminating the use and generation of dangerous substances. Sustainable chemistry insists on improving reaction efficiency, minimizing waste, and ensuring the long-term safety of both products and processes. Key metrics such as the E-Factor, Process Mass Intensity (PMI), and Atom Economy have been developed to quantitatively measure the environmental impact of chemical reactions. Also, solvent choice and product properties are key to assessing the sustainability of chemical transformations.\n",
    "\n",
    "With this idea in mind, we have developed GreenChemPanion in the context of the CH-200 Practical Programming for Chemistry course at EPFL: an interactive Python Package, based on RDKit and Streamlit, designed to help chemists assess and optimize the sustainability of their reactions. GCP integrates core green chemistry metrics, including E-Factor, PMI, and Atom Economy, as well as evaluations of solvent sustainability, molecular greenness (based on atomic composition), and reaction conditions.\n",
    "\n",
    "On the one hand, the package includes a pip-installable module which contains many functions and methods for Green Chemistry applications, which are, for the most part, centered around the `Reaction` class, main component of the module, which serves as a way to input chemical reactions in a way suited for computer programming & treatment.\n",
    "On the other hand, a Streamlit applet is also included, which provides the user with an interactive interface to input key reaction parameters such as reactants, products, and solvents & extra material used in the process, as well as to compute Green Chemistry factors for the given reaction, and establish \"greenness\" assessments of the process, based on solvents used, molecular structures of the compounds and the factors' values.\n",
    "\n",
    "Through this project, we aim to provide chemists with a centralized, intuitive, and practical tool that supports greener decision-making: GreenChemPanion bridges the gap between synthetic chemistry green chemistry principles, and cheminformatics, helping users evaluate their current reactions and design more sustainable processes.\n",
    "\n",
    "**🔔 Before getting started:**\n",
    "\n",
    "Make sure you have gone through the README file on the root folder, which indicates how to install the package properly!\n",
    "\n",
    "Feel free to modify the inputs, test different reactions, and explore how different molecular structures impact sustainability metrics. The code is modular and documented to support experimentation and learning.\n",
    "\n",
    "**❓ Questions?**\n",
    "\n",
    "For any questions, please contact marc.alhachem@epfl.ch, ralph.gebran@epfl.ch, tais.thomas@epfl.ch or valentine.wien@epfl.ch"
   ]
  },
  {
   "cell_type": "markdown",
   "metadata": {},
   "source": [
    "### 🔝 Import dependencies\n",
    "\n",
    "To begin, run the following cell to import all necessary modules, libraries and most importantly, GCP functions. Dependencies of GCP include standard tools such as pandas and math, along with the cheminformatics toolkit RDKit, which is used to represent, manipulate, and analyze molecular structures."
   ]
  },
  {
   "cell_type": "code",
   "execution_count": 1,
   "metadata": {},
   "outputs": [
    {
     "name": "stderr",
     "output_type": "stream",
     "text": [
      "2025-05-15 18:09:13.478 WARNING streamlit.runtime.scriptrunner_utils.script_run_context: Thread 'MainThread': missing ScriptRunContext! This warning can be ignored when running in bare mode.\n"
     ]
    }
   ],
   "source": [
    "import streamlit as st\n",
    "import pandas as pd\n",
    "import math\n",
    "from rdkit import Chem\n",
    "from rdkit.Chem import Draw\n",
    "from rdkit.Chem import Descriptors\n",
    "from streamlit_ketcher import st_ketcher\n",
    "from greenchempanion import Atom_Count_With_H, Reaction, compute_PMI, canonicalize_smiles, compute_E \n",
    "from greenchempanion import get_solvent_info, waste_efficiency, PMI_assesment, Atom_ec_assesment, logP_assessment_molecule, atoms_assessment, structural_assessment"
   ]
  },
  {
   "cell_type": "markdown",
   "metadata": {},
   "source": [
    "To begin evaluating the sustainability of a chemical reaction, users must define the reaction they wish to assess. With the `Reaction` class you can enter your chemical reactions as python variables, and you can also include solvents and extra materials, as well as reaction yield as additional data for some functions. "
   ]
  },
  {
   "cell_type": "markdown",
   "metadata": {},
   "source": [
    "### 📚 Example Usage of GreenChemPanion Functions"
   ]
  },
  {
   "cell_type": "markdown",
   "metadata": {},
   "source": [
    "**1️⃣ Define your chemical reaction**\n",
    "\n",
    "The main input type for chemical compounts in GCP is SMILES strings (a standardized way to represent molecular structures). If you don't know SMILES, you can either find them online, or generate them on the Streamlit app (see below).\n",
    "\n",
    "The `Reaction` class consists of two `Dict[Mol:int]` (one for reactants, one for products), as well as an `int` to designate the main/desired product's index in the second dictionary (set by default to 0, the first element).\n",
    "\n",
    "In the following example, we consider a SN reaction between N3 and I on a butane chain:\n",
    "\n",
    "![snequation.png](assets/sn_equation.png)"
   ]
  },
  {
   "cell_type": "code",
   "execution_count": 6,
   "metadata": {},
   "outputs": [],
   "source": [
    "# Compounds of a SN reaction\n",
    "sodium_azide = Chem.MolFromSmiles(\"[N-]=[N+]=[N-].[Na+]\")\n",
    "two_iodobutane = Chem.MolFromSmiles(\"CCC(I)C\")\n",
    "two_azidobutane = Chem.MolFromSmiles(\"CCC([N]=[N+]=[N-])C\")\n",
    "sodium_iodide = Chem.MolFromSmiles(\"[Na+].[I-]\")"
   ]
  },
  {
   "cell_type": "code",
   "execution_count": 7,
   "metadata": {},
   "outputs": [],
   "source": [
    "# Create the Reaction variable\n",
    "reactants = {two_iodobutane:1, sodium_azide:1} \n",
    "products = {two_azidobutane:1, sodium_iodide:1}\n",
    "\n",
    "sn_reaction = Reaction(reactants, products)"
   ]
  },
  {
   "cell_type": "markdown",
   "metadata": {},
   "source": [
    "This step creates a Reaction object that encodes the chemical transformation. SMILES are automatically converted into internal RDKit Mol objects (keys of the dictionaries), and the reaction is stored with the corresponding stoichiometry (values of the dictionaries)."
   ]
  },
  {
   "cell_type": "markdown",
   "metadata": {},
   "source": [
    "**2️⃣ Calculating the Atom Economy**\n",
    "\n",
    "Atom economy is a fundamental indicator in green chemistry, measuring the efficiency of using atoms in reactants to form the main product. A reaction with good atom economy limits waste production and maximizes the value of raw materials. The higher the atom economy, the better. The atom economy is expressed as a percentage and can never exceed 100% for well balanced reactions.\n",
    "\n",
    "GreenChemPanion allows you to calculate this indicator using two methods of the `Reaction` class:\n",
    " - By **number of atoms** (`Atom_Economy_A()`): evaluates the proportion of atoms present in the main product compared to all the reactants. Implicit hydrogens are included via an the `Atom_Count_With_H()` function.\n",
    " - By **molar mass** (`Atom_Economy_M()`): weights atoms by their mass to give a more accurate measurement in an industrial context. the mass of each molecule is obtained automatically from its structure, using the exact atomic masses provided by RDKit.\n"
   ]
  },
  {
   "cell_type": "code",
   "execution_count": null,
   "metadata": {},
   "outputs": [
    {
     "name": "stdout",
     "output_type": "stream",
     "text": [
      " Atom Economy by number of atoms is: 88.88888888888889\n",
      " Atom Economy by molar mass is: 39.8091000718786\n"
     ]
    }
   ],
   "source": [
    "print(f\" Atom Economy by number of atoms is: {sn_reaction.Atom_Economy_A()}\")\n",
    "# Result should be 88.89 %\n",
    "print(f\" Atom Economy by molar mass is: {sn_reaction.Atom_Economy_M()}\")\n",
    "# Result should be 39.81 %"
   ]
  },
  {
   "cell_type": "markdown",
   "metadata": {},
   "source": [
    "**3️⃣ Calculation of PMI and E Factor**\n",
    "\n",
    "These two indicators quantify the material efficiency of a chemical process by integrating the waste generated. Unlike the atom economy, they take into account all material flows, including by-products and solvents and extra material, when specified.\n",
    "\n",
    "The two metrics are calculated using functions which take in three arguments: a GCP `Reaction` object, a `Dict[Mol:float]` containing solvents & extras with their masses (in g) per kg of main product, and finally a `float` indicating the main product's yield.\n",
    "\n",
    " - **PMI (Process Mass Intensity)** (`compute_PMI()`) is the mass (kg) of inputs in the process (reactants + solvent + extras) per kilogram of main product.\n",
    " - **E-factor** (`compute_E()`) is the mass (kg) of waste generated by the process (side products + solvent + extras) per kilogram of main product.\n",
    "\n",
    "If needed, the user must thus specify the extras in a dictionary before using the compute functions.\n",
    "\n",
    "(For simplicity reasons, the extras inputs must be in mass and not volume, as some extras may not be liquid, and we can't deduce the density of any given compound. Nonetheless, a library of common solvents whose densities are stored can be added as volumetric inputs in the Streamlit applet, more below)\n",
    "\n",
    " Here are the specifications for the previously used reaction:\n",
    "\n",
    "![SN Reaction](assets/snreaction.png)\n",
    "\n"
   ]
  },
  {
   "cell_type": "code",
   "execution_count": 11,
   "metadata": {},
   "outputs": [
    {
     "name": "stdout",
     "output_type": "stream",
     "text": [
      "PMI : 214.0610982893482\n",
      "E-factor : 212.94998717823705\n"
     ]
    }
   ],
   "source": [
    "# Extras Compounds\n",
    "water = Chem.MolFromSmiles(\"O\")\n",
    "acetone = Chem.MolFromSmiles(\"CC(=O)C\")\n",
    "ether = Chem.MolFromSmiles(\"CCOCC\")\n",
    "\n",
    "sn_extras = {acetone:17470, water:112000, ether:81800}\n",
    "\n",
    "sn_reaction_pmi = compute_PMI(sn_reaction, sn_extras , 0.9)\n",
    "sn_reaction_e= compute_E(sn_reaction, sn_extras, 0.9)\n",
    "\n",
    "print(f\"PMI : {sn_reaction_pmi}\")\n",
    "# Result shoud be 214\n",
    "print(f\"E-factor : {sn_reaction_e}\")\n",
    "# Result should be 212.9"
   ]
  },
  {
   "cell_type": "markdown",
   "metadata": {},
   "source": [
    "**🌍 Step 4: Evaluation of the solvents used**\n",
    "\n",
    "Solvents can be responsible for a large part of the environmental impact of a chemical process. In this project, we integrated an automatic method for classifying solvents used in a reaction, based on their SMILES structure.\n",
    "\n",
    "*Principle* - each solvent is compared to three pre-defined categories:\n",
    " - ✅Green: solvents considered environmentally friendly according to green chemistry guides (water, ethanol,...).\n",
    " - 🟨​Acceptable: Default category for unclassified solvents, assumed to be acceptable but not optimal.\n",
    " - ❌Bad: solvents that are problematic for health or the environment (benzene, n-hexane, halogenated solvents,...).\n",
    "\n",
    "**Implementation** - A meter associates one of three categories with each solvent:"
   ]
  },
  {
   "cell_type": "code",
   "execution_count": null,
   "metadata": {},
   "outputs": [],
   "source": [
    "Green = {\"O\", \"CCO\", \"CC(=O)OCC\", \"CC1COCC1\", \"O=C=O\", \"CC(O)C\", \"CO\"}\n",
    "Bad = {\"ClCCl\", \"ClC(Cl)Cl\", \"c1ccccc1\", \"ClC(Cl)(Cl)Cl\", \"CCCCCC\", \"CCCCC\"}\n",
    "\n",
    "extras = Reaction.get_extras()\n",
    "\n",
    "seen = {\"Green\": 0, \"Acceptable\": 0, \"Bad\": 0}\n",
    "for mol in extras:\n",
    "    smi = Chem.MolToSmiles(mol)\n",
    "    if smi in Green:\n",
    "        seen[\"Green\"] += 1\n",
    "    elif smi in Bad:\n",
    "        seen[\"Bad\"] += 1\n",
    "    else:\n",
    "        seen[\"Acceptable\"] += 1\n"
   ]
  },
  {
   "cell_type": "markdown",
   "metadata": {},
   "source": [
    "Based on the count, an overall verdict is issued:\n",
    "\n",
    " - If a \"Bad\" solvent is detected: a red warning is displayed.\n",
    " - If only \"Acceptable\" solvents are detected: a yellow warning.\n",
    " - If all solvents are \"Green\": a green message validates the selection."
   ]
  },
  {
   "cell_type": "markdown",
   "metadata": {},
   "source": [
    "**🧪 Step 5: Product Evaluation**\n",
    "\n",
    "One of the sustainability criteria for a chemical reaction concerns the nature of the resulting products. Some compounds may be toxic, non-biodegradable, or derived from rare elements, which affects the overall sustainability of the process.\n",
    "\n",
    "In this project, product evaluation is based on two aspects:\n",
    "\n",
    " 1. 🧑‍🔬Presence of problematic atomic elements\n",
    " \n",
    "  An initial filter checks whether the molecules produced contain elements that pose a risk from a green chemistry perspective. The list includes elements such as chlorine, bromine, lead, and certain heavy metals. If any of these elements are present, a warning is displayed.\n",
    "\n"
   ]
  },
  {
   "cell_type": "code",
   "execution_count": null,
   "metadata": {},
   "outputs": [],
   "source": [
    "# Example utilization\n",
    "product_evaluation = Reaction.evaluate_products()\n",
    "print(product_evaluation)"
   ]
  },
  {
   "cell_type": "markdown",
   "metadata": {},
   "source": [
    "This feedback indicates whether problematic atomic elements are present in the main product. The goal is to encourage the avoidance of products containing unsustainable elements.\n",
    "\n",
    "2. 💧 Evaluation of logP (hydrophobicity)\n",
    " \n",
    " A second indicator is the logP value, the logarithm of the octanol/water partition coefficient, which provides an indication of the compound's solubility and environmental behavior.\n",
    "\n",
    " A low logP value indicates a hydrophilic molecule, which is generally more favorable for biodegradability. Conversely, a high logP may suggest a molecule that is likely to accumulate in living organisms and the environment.\n",
    "\n",
    " The function evaluates the hydrophobicity of the main product by calculating its logP value via RDKit and classifying it into different categories according to its value"
   ]
  },
  {
   "cell_type": "code",
   "execution_count": null,
   "metadata": {},
   "outputs": [],
   "source": [
    "from rdkit.Chem import Crippen\n",
    "logP = Crippen.MolLogP(product)"
   ]
  },
  {
   "cell_type": "code",
   "execution_count": null,
   "metadata": {},
   "outputs": [],
   "source": [
    "logp_evaluation = Reaction.logP_assessment_molecule()\n",
    "print(logp_evaluation)"
   ]
  },
  {
   "cell_type": "markdown",
   "metadata": {},
   "source": [
    "The assessment is based on a simple classification:\n",
    "\n",
    " - ✅ 1.5<= logP <= 2.5 → Hydrophilic, favorable product\n",
    " - 🚸​ 0 <= logP <= 1.5 and 2.5<= logP <= 4 → Moderately hydrophobic product\n",
    " - 🚫 logP > 4 → Potentially problematic product\n",
    " \n",
    "These two assessments are intended to provide additional clues about the environmental quality of the main reaction product."
   ]
  },
  {
   "cell_type": "markdown",
   "metadata": {},
   "source": [
    "**⚗️ Step 6: Structural Assessment**\n",
    "\n",
    "Beyond atomic composition and physicochemical properties, a product's molecular structure can significantly influence its environmental impact. Certain substructures or functional units are known to be problematic: they can affect biodegradability, cause toxic effects, or make the molecule persistent in the environment.\n",
    "\n",
    "In GreenChemPanion, we implemented an evaluation based on the detection of risky motifs in the main product molecule.\n",
    "\n",
    "*🔍 Analysis method:*\n",
    "\n",
    "The structural_assessment() function allows you to assess whether products contain risky structural motifs, based on:\n",
    "\n",
    "1. SMARTS substructures known to be problematic, such as:\n",
    " - carbon oxides (`CO`, `CO2`)\n",
    " - nitro groups (`NO2`)\n",
    " - azo groups (`N=N`)\n",
    " - highly halogenated aromatic rings (`dichlorobenzenes`) \n",
    "\n",
    "2. The presence of long chains of heavy atoms (more than 10 non-hydrogen atoms), often associated with biodegradability problems.\n",
    "\n",
    "*🧪 How it works*\n",
    "\n",
    "For each product:\n",
    "\n",
    "- The molecule is examined for substructures corresponding to the risky motifs using mol.HasSubstructMatch(...)\n",
    "\n",
    "- A structural similarity analysis (molecular fingerprinting + Tanimoto) is used as a complementary method: if a structure is sufficiently close to a known motif, a warning is issued.\n",
    "\n",
    "- If a product exceeds 10 heavy atoms (excluding hydrogens), a flag is raised.\n",
    "\n",
    "*🖥️ Example result*"
   ]
  },
  {
   "cell_type": "code",
   "execution_count": null,
   "metadata": {},
   "outputs": [],
   "source": [
    "msg, color = structural_assessment(Reaction)\n",
    "display(Markdown(msg))"
   ]
  },
  {
   "cell_type": "markdown",
   "metadata": {},
   "source": [
    "### 📊User interface with Streamlit\n",
    "\n",
    "To make sustainability assessment accessible to chemists without programming skills, a simple and interactive user interface was developed using Streamlit.\n",
    "\n",
    "**🎯 Objective**\n",
    "\n",
    "The objective is to allow the user to:\n",
    "\n",
    " - Define a chemical reaction using SMILES,\n",
    " - Automatically launch the sustainability analysis based on the defined indicators (atom economy, E-factor, solvents, logP, structure, etc.),\n",
    " - Visualize the results in a clear and colorful interface.\n",
    "\n",
    " \n",
    "**💻 Interface Features**\n",
    "\n",
    "The Streamlit interface includes:\n",
    "\n",
    "1. Reactant and Product Entry:\n",
    " - Text field for entering SMILES separated by commas.\n",
    " - Choice of the main product via a drop-down menu.\n",
    "2. Automated Analysis:\n",
    " - Creation of the Reaction object from user data.\n",
    " - Calculation of all sustainability indicators using the previously defined functions.\n",
    "3. Result Display:\n",
    " - Results presented as text accompanied by emoticons ✅ 🚸​ 🚨\n",
    " - Use of colors (green, yellow, red) to reflect the environmental assessment.\n",
    " - Option to have an overall summary at the end."
   ]
  },
  {
   "cell_type": "markdown",
   "metadata": {},
   "source": [
    "## 🌿 GreenChemPanion: Challenges, Features and Limitations\n",
    "\n",
    "### **🧪 Introduction**\n",
    "\n",
    "GreenChemPanion is an interactive notebook designed to assess the environmental sustainability of chemical reactions based on the principles of green chemistry. It is based on the analysis of indicators such as atom economy, E-factor, solvent use, and the nature of the products generated.\n",
    "\n",
    "### **🎯 Motivations**\n",
    "\n",
    "This project is aimed at anyone, students, teachers, or researchers, who wishes to integrate sustainability concepts from the design phase of a chemical synthesis. By offering a rapid, visual, and multi-criteria assessment of a reaction based on its SMILES representation, GreenChemPanion makes it possible to identify the main weak points of a transformation from a green chemistry perspective in just a few seconds. Using various indicators (atom savings, waste generated, nature of solvents, atomic elements present, molecular structure of the product), the project encourages a more critical and responsible approach to chemistry.\n",
    "\n",
    "Beyond the technical aspect, GreenChemPanion is also intended as an educational and awareness-raising tool. It reminds us that every choice made during a synthesis—from the solvent to the product formed—can have a measurable environmental impact. By facilitating access to criteria often considered secondary in laboratory planning, this project contributes to making sustainable chemistry a concrete, accessible, and applicable priority starting in university education.\n",
    "\n",
    "### **🌟 Main Features**\n",
    "\n",
    "- **Atom Economy Calculation**: Measures the efficiency with which reactants are converted into the main product.\n",
    "E-Factor & PMI: Evaluate the mass of waste generated and the mass of material consumed.\n",
    "\n",
    "- **Solvent Assessment**: Classifies solvents into three categories (\"Green\", \"Acceptable\", \"Bad\") according to their environmental impact.\n",
    "\n",
    "- **LogP Analysis**: Provides an indication of the product's biodegradability and persistence in a biological environment.\n",
    "\n",
    "- **Elemental Risk Scan**: Detects the presence of problematic elements (heavy metals, halogens, etc.).\n",
    "\n",
    "- **Structural Assessment**: Searches for structural motifs associated with environmental risks or toxicity.\n",
    "\n",
    "- **Streamlit Interface**: Interactive interface for easily testing different reactions.\n",
    "\n",
    "### **📉 Challenges Encountered**\n",
    "\n",
    "- **Stoichiometry and balancing**: The code had to ensure that the reactions were well balanced before running the calculations.\n",
    "\n",
    "- **Reliable atom counting**: Implicit hydrogens had to be taken into account to obtain a realistic count.\n",
    "\n",
    "- **Choice of reference solvents**: The classification of solvents was based on an arbitrary selection of representative SMILES, which sometimes required questionable decisions.\n",
    "\n",
    "- **Product evaluation**: Certain criteria (such as logP or the presence of \"at risk\" atoms) may vary depending on the application context, which introduces a degree of subjectivity.\n",
    "\n",
    "- **Using Streamlit**: Integrating it into a dynamic interface while maintaining explicit and colorful user feedback required technical adjustments.\n",
    "\n",
    "### **🚧 Limitations**\n",
    "\n",
    "- **Subjectivity in some criteria**: The evaluation of problematic solvents or structures is based on lists chosen by the developers, which may not cover all cases or depend on questionable sources.\n",
    "\n",
    "- **SMILES only**: Some complex or ambiguous reactions cannot be properly analyzed if the SMILES are not well written or ambiguous.\n",
    "\n",
    "- **Simplification of waste**: All products that are not the main product are considered waste, which can be reductive in the case of recoverable co-products.\n",
    "\n",
    "- **Lack of energy factors**: The software does not take into account experimental conditions (such as temperature and pressure) which also influence durability.\n",
    "\n",
    "- **Limit to one reaction at a time**: The system evaluates only one transformation at a time and does not yet allow a global evaluation of a multi-step synthetic route.\n",
    "\n",
    "### **✅ Conclusion**\n",
    "\n",
    "GreenChemPanion represents a first step toward an interactive and accessible green chemistry assistant. While still imperfect, it allows for an initial assessment of chemical transformations from a sustainability perspective. By combining various indicators in a simple interface, it serves as an educational tool and awareness-raising tool. The project remains open to future expansions: consideration of energy, multi-step approach, reaction database, or even the integration of artificial intelligence for more refined recommendations.\n",
    "\n"
   ]
  }
 ],
 "metadata": {
  "kernelspec": {
   "display_name": "gcp",
   "language": "python",
   "name": "python3"
  },
  "language_info": {
   "codemirror_mode": {
    "name": "ipython",
    "version": 3
   },
   "file_extension": ".py",
   "mimetype": "text/x-python",
   "name": "python",
   "nbconvert_exporter": "python",
   "pygments_lexer": "ipython3",
   "version": "3.10.16"
  }
 },
 "nbformat": 4,
 "nbformat_minor": 2
}
